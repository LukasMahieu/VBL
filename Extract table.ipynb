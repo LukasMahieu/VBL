{
 "cells": [
  {
   "cell_type": "code",
   "execution_count": 77,
   "metadata": {},
   "outputs": [],
   "source": [
    "import requests\n",
    "from datetime import datetime\n",
    "from datetime import date"
   ]
  },
  {
   "cell_type": "code",
   "execution_count": 78,
   "metadata": {},
   "outputs": [],
   "source": [
    "# The teamguids for which we'll find all the oponents guids\n",
    "teamguid1 = 'BVBL1117HSE++1'\n",
    "teamguid2 = 'BVBL1117HSE++2'"
   ]
  },
  {
   "cell_type": "code",
   "execution_count": 79,
   "metadata": {},
   "outputs": [],
   "source": [
    "def opponents_teamguids(teamguid):\n",
    "    \"\"\"\n",
    "    Start with a teamguid and return a dictionary of all opponents teamnames + teamguids\n",
    "    \"\"\"\n",
    "    url_teamdetail = 'http://vblcb.wisseq.eu/VBLCB_WebService/data/TeamDetailByGuid?teamguid=' + teamguid\n",
    "    opponents_teamguids = {}\n",
    "    \n",
    "    try:\n",
    "        response = requests.get(url_teamdetail)\n",
    "        for teamdetail in response.json()[0]['poules'][0]['teams']:\n",
    "            opponents_teamguids[teamdetail['naam']] = teamdetail['guid'].replace(\" \",\"+\") # Teamname = key, teamguid = value. Replace spaces with '+' in key \n",
    "        \n",
    "        opponents_teamguids = {key:val for key, val in opponents_teamguids.items() if val != teamguid} # Copy the dictionary but remove our own teamguid\n",
    "        return(opponents_teamguids)\n",
    "    \n",
    "    except:\n",
    "        print('Invalid Response or Error: ' + str(response))\n",
    "  "
   ]
  },
  {
   "cell_type": "code",
   "execution_count": 80,
   "metadata": {},
   "outputs": [],
   "source": [
    "def opponent_matchguids(opponents_teamguid):\n",
    "    \"\"\"\n",
    "    Start with a single opponents teamguid & return a list of all the matchguids that are before the current date\n",
    "    \"\"\"   \n",
    "    url_teammatches = 'http://vblcb.wisseq.eu/VBLCB_WebService/data/TeamMatchesByGuid?teamguid=' + opponents_teamguid\n",
    "    opponents_matchguids = []\n",
    "    today = date.today()\n",
    "    \n",
    "    try:\n",
    "        response = requests.get(url_teammatches)\n",
    "        for teammatches in response.json():\n",
    "            if datetime.strptime(teammatches['datumString'], \"%d-%m-%Y\").date() < today: # If matchday is before today, then append the matchguid to list\n",
    "                opponents_matchguids.append(teammatches['guid'])                \n",
    "        return(opponents_matchguids)\n",
    "    except:\n",
    "        print('Invalid Response or Error: ' + str(response))\n",
    "    "
   ]
  },
  {
   "cell_type": "code",
   "execution_count": 81,
   "metadata": {},
   "outputs": [],
   "source": [
    "def opponents_matches(opponents_teams):\n",
    "    \"\"\"\n",
    "    Use the opponent_matchguids function to return a dictionary of all opponent names & all their matchguids before today\n",
    "    \"\"\"\n",
    "    opponents_matches = {}\n",
    "\n",
    "    for key, value in opponents_teams.items():\n",
    "        opponents_matches[key] = opponent_matchguids(value)\n",
    "    return(opponents_matches)"
   ]
  },
  {
   "cell_type": "code",
   "execution_count": 84,
   "metadata": {},
   "outputs": [],
   "source": [
    "# Get dicts of all the opponents names + their teamguids per team\n",
    "team1_opponents = opponents_teamguids(teamguid1)\n",
    "team2_opponents = opponents_teamguids(teamguid2) \n",
    "\n",
    "# Get dicts of all the opponents names + their all their matchguids before today\n",
    "team1_opponents_matches = opponents_matches(team1_opponents)\n",
    "team2_opponents_matches = opponents_matches(team2_opponents)"
   ]
  }
 ],
 "metadata": {
  "kernelspec": {
   "display_name": "Python 3",
   "language": "python",
   "name": "python3"
  },
  "language_info": {
   "codemirror_mode": {
    "name": "ipython",
    "version": 3
   },
   "file_extension": ".py",
   "mimetype": "text/x-python",
   "name": "python",
   "nbconvert_exporter": "python",
   "pygments_lexer": "ipython3",
   "version": "3.7.6"
  }
 },
 "nbformat": 4,
 "nbformat_minor": 4
}
