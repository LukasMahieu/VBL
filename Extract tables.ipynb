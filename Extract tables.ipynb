{
 "cells": [
  {
   "cell_type": "code",
   "execution_count": 1,
   "metadata": {},
   "outputs": [],
   "source": [
    "# Get packages\n",
    "import time\n",
    "import pandas as pd"
   ]
  },
  {
   "cell_type": "code",
   "execution_count": 81,
   "metadata": {},
   "outputs": [],
   "source": [
    "class Webdriver:\n",
    "    \n",
    "    \"\"\"\n",
    "    This is a class that generates a chrome webdriver and can be used to navigate the VBL website\n",
    "    \"\"\"\n",
    "    \n",
    "    def __init__(self):\n",
    "        # Automatically create a webdriver when class Webdriver is called\n",
    "        self.generate_driver()\n",
    "        \n",
    "    def generate_driver(self):\n",
    "        import pyderman as pydriver\n",
    "        from selenium import webdriver\n",
    "        from selenium.webdriver.common.keys import Keys\n",
    "        from bs4 import BeautifulSoup\n",
    "        \n",
    "        try: \n",
    "            # Check if chromedriver is installed (necessary for selenium). Else, install it.\n",
    "            path = pydriver.install(browser=pydriver.chrome)\n",
    "            print('Installed chromedriver driver to path: %s' % path)\n",
    "\n",
    "            # Create the chromedriver instance\n",
    "            self.driver = webdriver.Chrome(path)\n",
    "\n",
    "        except:\n",
    "            print('chromedriver not installed correctly')\n",
    "            \n",
    "    def login(self, username, password):\n",
    "        element_username = self.driver.find_element_by_xpath(\"/html/body/div[2]/form/div[1]/input\")\n",
    "        element_password = self.driver.find_element_by_xpath(\"/html/body/div[2]/form/div[2]/input\")\n",
    "        element_button = self.driver.find_element_by_xpath(\"/html/body/div[2]/form/div[4]/button\")\n",
    "        \n",
    "        element_username.clear()\n",
    "        element_username.send_keys(username)\n",
    "            \n",
    "        element_password.clear()\n",
    "        element_password.send_keys(password)\n",
    "        \n",
    "        element_button.send_keys(Keys.RETURN)\n",
    "        \n",
    "        time.sleep(5) # make sure we are logged in before redirecting to a new page\n",
    "     \n",
    "    def redirect_page(self, url):   \n",
    "        try:\n",
    "            url = url\n",
    "            self.driver.get(url)   \n",
    "            time.sleep(1)\n",
    "        except:\n",
    "            print(\"Incorrect page\")\n",
    "        \n",
    "    def export_verslag(self):\n",
    "        \n",
    "        # Press buton 'Verslag'\n",
    "        elem = self.driver.find_element_by_link_text(\"Verslag\")\n",
    "        elem.click()\n",
    "        time.sleep(1)\n",
    "        \n",
    "        # Download tables under 'Verslag'\n",
    "        elem = self.driver.find_elements_by_xpath('//*[@id=\"teamthuis\"]/div[3]/table')\n",
    "        page = BeautifulSoup(self.driver.page_source, 'html.parser')\n",
    "\n",
    "        rows = page.select('table tbody tr')\n",
    "        data = []\n",
    "        for row in rows:\n",
    "            tds = row.select('td')\n",
    "            if len(tds) == 4:\n",
    "                data.append([tds[0].text, tds[1].text, tds[2].text, tds[3].text]) # check for doubles in dict!!\n",
    "        \n",
    "        return data"
   ]
  },
  {
   "cell_type": "code",
   "execution_count": 84,
   "metadata": {},
   "outputs": [
    {
     "name": "stdout",
     "output_type": "stream",
     "text": [
      "chromedriver is already installed.\n",
      "Installed chromedriver driver to path: C:\\Users\\Lukas\\Test jupyterlab\\lib\\chromedriver_86.0.4240.22.exe\n"
     ]
    }
   ],
   "source": [
    "# login credentials\n",
    "login = pd.read_csv(\"login.txt\", sep = \": \", header = None, engine='python')\n",
    "username = login[1][0]\n",
    "password = login[1][1]\n",
    "\n",
    "### Webdriver\n",
    "# Call the webdriver class to generate a webdriver instance\n",
    "website = Webdriver()\n",
    "\n",
    "# Login using login credentials\n",
    "website.redirect_page(\"https://vblweb.wisseq.eu/Home/login\") # go to login page\n",
    "website.login(username, password)\n",
    "\n",
    "# Redirect to the correct pages and extract the tables\n",
    "website.redirect_page(\"https://vblweb.wisseq.eu/Home/MatchDetail?wedguid=BVBL20211117OR00117303&ID=Uitslag\")\n",
    "#website.redirect_page(\"https://vblweb.wisseq.eu/Home/MatchDetail?wedguid=BVBL20219110ANHSE41BAL&ID=Uitslag\")"
   ]
  },
  {
   "cell_type": "code",
   "execution_count": 83,
   "metadata": {},
   "outputs": [
    {
     "data": {
      "text/plain": [
       "[['1', '0', '5', '19'],\n",
       " ['2', '1', '1', '18'],\n",
       " ['3', '1', '7', '5'],\n",
       " ['4', '2', '3', '8'],\n",
       " ['Totaal', '4', '16', '50'],\n",
       " ['5', 'Glenn Brabants', '1e5', '4'],\n",
       " ['6', 'Filip Leemans', '1e5', '19'],\n",
       " ['9', 'Kevin Buelens', '1e5', '1'],\n",
       " ['11', 'Wouter Op de Beeck', '', '2'],\n",
       " ['12', 'Wim Teugels', '1e5', '8'],\n",
       " ['14', 'Tim Geeraerts', '', '0'],\n",
       " ['15', 'Remi Vandenbroeck', '1e5', '9'],\n",
       " ['18', 'Lukas Mahieu', '', '0'],\n",
       " ['19', 'Christophe Leysen', '', '2'],\n",
       " ['23', 'Nick Hedeman', '', '5'],\n",
       " ['1', '1', '1', '16'],\n",
       " ['2', '0', '2', '11'],\n",
       " ['3', '1', '2', '19'],\n",
       " ['4', '1', '3', '7'],\n",
       " ['Totaal', '3', '8', '53'],\n",
       " ['1 ', 'Wouter De Roos', '', '2'],\n",
       " ['2 ', 'Jeroen De Cock', '', '10'],\n",
       " ['3 ', 'Wout Rits', '1e5', '3'],\n",
       " ['4 ', 'Axel Wellens', '1e5', '4'],\n",
       " ['5 ', 'Yannick Guilliams', '', '9'],\n",
       " ['6 ', 'Jente Michel', '', '0'],\n",
       " ['8 ', 'Filip Van Gossum', '1e5', '9'],\n",
       " ['9 ', 'Jonas De Cock', '1e5', '12'],\n",
       " ['10 ', 'Ilja Van Doorslaer', '', '0'],\n",
       " ['11 ', 'Joery Mertens', '1e5', '4']]"
      ]
     },
     "execution_count": 83,
     "metadata": {},
     "output_type": "execute_result"
    }
   ],
   "source": [
    "verslag = website.export_verslag()\n",
    "verslag"
   ]
  },
  {
   "cell_type": "code",
   "execution_count": null,
   "metadata": {},
   "outputs": [],
   "source": []
  }
 ],
 "metadata": {
  "kernelspec": {
   "display_name": "Python 3",
   "language": "python",
   "name": "python3"
  },
  "language_info": {
   "codemirror_mode": {
    "name": "ipython",
    "version": 3
   },
   "file_extension": ".py",
   "mimetype": "text/x-python",
   "name": "python",
   "nbconvert_exporter": "python",
   "pygments_lexer": "ipython3",
   "version": "3.7.6"
  }
 },
 "nbformat": 4,
 "nbformat_minor": 4
}
